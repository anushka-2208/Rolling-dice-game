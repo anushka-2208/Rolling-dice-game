{
  "nbformat": 4,
  "nbformat_minor": 0,
  "metadata": {
    "colab": {
      "provenance": []
    },
    "kernelspec": {
      "name": "python3",
      "display_name": "Python 3"
    },
    "language_info": {
      "name": "python"
    }
  },
  "cells": [
    {
      "cell_type": "markdown",
      "source": [
        "Rolling dice"
      ],
      "metadata": {
        "id": "5dTvEENPc7x1"
      }
    },
    {
      "cell_type": "code",
      "source": [
        "#import random library"
      ],
      "metadata": {
        "id": "QyABrviMc_fv"
      },
      "execution_count": 2,
      "outputs": []
    },
    {
      "cell_type": "code",
      "execution_count": 1,
      "metadata": {
        "colab": {
          "base_uri": "https://localhost:8080/"
        },
        "id": "UNH-8Rgb3UVu",
        "outputId": "0b30ba99-2429-4a04-8859-e8e35dd2fb96"
      },
      "outputs": [
        {
          "output_type": "stream",
          "name": "stdout",
          "text": [
            "Write start to start rolling the die:start\n",
            "Result of the dice rolling is :4\n"
          ]
        }
      ],
      "source": [
        "import random\n",
        "roll_dice = input (\"Write start to start rolling the die:\")\n",
        "if roll_dice == \"start\":\n",
        "  possible_result = [1 , 2, 3, 4, 5, 6]\n",
        "  result = random.choice(possible_result)\n",
        "  print (\"Result of the dice rolling is :\" + str(result))\n",
        "else :\n",
        "  print(\"INVALID INPUT\")"
      ]
    },
    {
      "cell_type": "code",
      "source": [],
      "metadata": {
        "id": "JnzLAnQLcYVo"
      },
      "execution_count": null,
      "outputs": []
    }
  ]
}